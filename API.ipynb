{
 "cells": [
  {
   "cell_type": "code",
   "execution_count": 1,
   "metadata": {},
   "outputs": [],
   "source": [
    "import requests\n",
    "import csv"
   ]
  },
  {
   "cell_type": "code",
   "execution_count": 2,
   "metadata": {},
   "outputs": [],
   "source": [
    "paises = {\n",
    "    'Germany': 'DE',\n",
    "    'Spain': 'ES',\n",
    "    'Italy': 'IT',\n",
    "    'France': 'FR',\n",
    "    'United Kingdom': 'GB'\n",
    "}\n",
    "base_url = \"https://api.worldbank.org/v2/country/{}/indicator/NY.GDP.MKTP.CD?format=json\""
   ]
  },
  {
   "cell_type": "code",
   "execution_count": 3,
   "metadata": {},
   "outputs": [
    {
     "name": "stdout",
     "output_type": "stream",
     "text": [
      "El PIB de Germany se ha guardado en el archivo.\n",
      "El PIB de Spain se ha guardado en el archivo.\n",
      "El PIB de Italy se ha guardado en el archivo.\n",
      "El PIB de France se ha guardado en el archivo.\n",
      "El PIB de United Kingdom se ha guardado en el archivo.\n"
     ]
    }
   ],
   "source": [
    "def obtener_pib(codigo_pais):\n",
    "    url = base_url.format(codigo_pais)\n",
    "    respuesta = requests.get(url)\n",
    "    \n",
    "    # Verify the request\n",
    "    if respuesta.status_code == 200:\n",
    "        data = respuesta.json()\n",
    "        \n",
    "        # The PIB value more recent are in the second index\n",
    "        if data and len(data) > 1 and len(data[1]) > 0:\n",
    "            ultimo_registro = data[1][0]\n",
    "            pib = ultimo_registro['value']\n",
    "            return pib\n",
    "        else:\n",
    "            return None\n",
    "    else:\n",
    "        return None\n",
    "\n",
    "# Open the csv in writer mode\n",
    "with open('datasets/pib_paises_en.csv', mode='w', newline='') as file:\n",
    "    writer = csv.writer(file)\n",
    "    \n",
    "    # Write the labels\n",
    "    writer.writerow(['country', 'gdp'])\n",
    "    \n",
    "    # Itering around countries to obtain the PIB\n",
    "    for pais, codigo in paises.items():\n",
    "        pib = obtener_pib(codigo)\n",
    "        \n",
    "        if pib:\n",
    "            # Print the contry and the PIB rounded\n",
    "            writer.writerow([pais, f\"{pib:.2f}\"])\n",
    "            print(f\"El PIB de {pais} se ha guardado en el archivo.\")\n",
    "        else:\n",
    "            print(f\"No se pudo obtener el PIB de {pais}.\")"
   ]
  }
 ],
 "metadata": {
  "kernelspec": {
   "display_name": "base",
   "language": "python",
   "name": "python3"
  },
  "language_info": {
   "codemirror_mode": {
    "name": "ipython",
    "version": 3
   },
   "file_extension": ".py",
   "mimetype": "text/x-python",
   "name": "python",
   "nbconvert_exporter": "python",
   "pygments_lexer": "ipython3",
   "version": "3.12.4"
  }
 },
 "nbformat": 4,
 "nbformat_minor": 2
}
